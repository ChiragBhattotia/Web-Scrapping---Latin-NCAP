{
 "cells": [
  {
   "cell_type": "code",
   "execution_count": 1,
   "id": "20b972e8",
   "metadata": {},
   "outputs": [],
   "source": [
    "import requests"
   ]
  },
  {
   "cell_type": "code",
   "execution_count": 2,
   "id": "46115682",
   "metadata": {},
   "outputs": [],
   "source": [
    "NCAP_url = 'https://www.latinncap.com/en/results'"
   ]
  },
  {
   "cell_type": "code",
   "execution_count": 3,
   "id": "27d6f584",
   "metadata": {},
   "outputs": [],
   "source": [
    "response = requests.get(NCAP_url)"
   ]
  },
  {
   "cell_type": "code",
   "execution_count": 4,
   "id": "f9dd824c",
   "metadata": {},
   "outputs": [
    {
     "data": {
      "text/plain": [
       "200"
      ]
     },
     "execution_count": 4,
     "metadata": {},
     "output_type": "execute_result"
    }
   ],
   "source": [
    "response.status_code"
   ]
  },
  {
   "cell_type": "code",
   "execution_count": 5,
   "id": "85642fca",
   "metadata": {},
   "outputs": [],
   "source": [
    "page_contents = response.text"
   ]
  },
  {
   "cell_type": "code",
   "execution_count": 6,
   "id": "f9552c3e",
   "metadata": {},
   "outputs": [],
   "source": [
    "with open('webpage.html','w', encoding = 'utf8') as f:\n",
    "    f.write(page_contents)"
   ]
  },
  {
   "cell_type": "code",
   "execution_count": 7,
   "id": "7cf67465",
   "metadata": {},
   "outputs": [],
   "source": [
    "from bs4 import BeautifulSoup"
   ]
  },
  {
   "cell_type": "code",
   "execution_count": 8,
   "id": "1644d496",
   "metadata": {},
   "outputs": [],
   "source": [
    "doc = BeautifulSoup(page_contents, 'html.parser')"
   ]
  },
  {
   "cell_type": "code",
   "execution_count": 9,
   "id": "11f3a49f",
   "metadata": {},
   "outputs": [],
   "source": [
    "selection_class = \"tit-marca\"\n",
    "brand_tags = doc.find_all('span',{'class': selection_class})"
   ]
  },
  {
   "cell_type": "code",
   "execution_count": 10,
   "id": "678e61de",
   "metadata": {},
   "outputs": [
    {
     "data": {
      "text/plain": [
       "48"
      ]
     },
     "execution_count": 10,
     "metadata": {},
     "output_type": "execute_result"
    }
   ],
   "source": [
    "len(brand_tags)"
   ]
  },
  {
   "cell_type": "code",
   "execution_count": 11,
   "id": "72ac3f59",
   "metadata": {},
   "outputs": [
    {
     "data": {
      "text/plain": [
       "[<span class=\"tit-marca\">Chevrolet</span>,\n",
       " <span class=\"tit-marca\">Fiat</span>,\n",
       " <span class=\"tit-marca\">Ford</span>,\n",
       " <span class=\"tit-marca\">Great Wall Motors</span>,\n",
       " <span class=\"tit-marca\">Honda</span>]"
      ]
     },
     "execution_count": 11,
     "metadata": {},
     "output_type": "execute_result"
    }
   ],
   "source": [
    "brand_tags[:5]"
   ]
  },
  {
   "cell_type": "code",
   "execution_count": 12,
   "id": "c07f3906",
   "metadata": {},
   "outputs": [
    {
     "data": {
      "text/plain": [
       "48"
      ]
     },
     "execution_count": 12,
     "metadata": {},
     "output_type": "execute_result"
    }
   ],
   "source": [
    "brand_titles = []\n",
    "\n",
    "for tag in brand_tags:\n",
    "    brand_titles.append(tag.text)\n",
    "len(brand_titles)"
   ]
  },
  {
   "cell_type": "code",
   "execution_count": 13,
   "id": "f93abbc1",
   "metadata": {},
   "outputs": [],
   "source": [
    "model_tags = doc.find_all('h3',class_ = False,id = False)"
   ]
  },
  {
   "cell_type": "code",
   "execution_count": 14,
   "id": "0f8a5f2d",
   "metadata": {},
   "outputs": [],
   "source": [
    "model_tags = doc.find_all('h3',class_ = False,id = False)"
   ]
  },
  {
   "cell_type": "code",
   "execution_count": 15,
   "id": "45caabe7",
   "metadata": {},
   "outputs": [
    {
     "data": {
      "text/plain": [
       "156"
      ]
     },
     "execution_count": 15,
     "metadata": {},
     "output_type": "execute_result"
    }
   ],
   "source": [
    "len(model_tags)"
   ]
  },
  {
   "cell_type": "code",
   "execution_count": 16,
   "id": "0040f209",
   "metadata": {},
   "outputs": [
    {
     "data": {
      "text/plain": [
       "[<h3>Chevrolet Tracker + 6 Airbags</h3>,\n",
       " <h3>Fiat Strada</h3>,\n",
       " <h3>Fiat Argo / Cronos + 2 Airbags</h3>,\n",
       " <h3>Ford Ka + 2 Airbags</h3>,\n",
       " <h3>Great Wall Motors Wingle 5 + 2 Airbags</h3>,\n",
       " <h3>Honda WR-V + 2 Airbags</h3>,\n",
       " <h3>Hyundai Tucson + 6 Airbags</h3>,\n",
       " <h3>Hyundai Tucson + 2 Airbags</h3>,\n",
       " <h3>Hyundai Accent + 1 Airbag</h3>,\n",
       " <h3>Hyundai Tucson + 2 Airbags</h3>,\n",
       " <h3>Hyundai HB20 + 2 Airbags</h3>,\n",
       " <h3>Kia Sportage + 2 Airbags</h3>,\n",
       " <h3>Kia Picanto / Morning + 1 Airbag</h3>,\n",
       " <h3>Nissan Qashqai + 6 Airbags</h3>,\n",
       " <h3>Peugeot 208 + 4 Airbags</h3>]"
      ]
     },
     "execution_count": 16,
     "metadata": {},
     "output_type": "execute_result"
    }
   ],
   "source": [
    "model_tags[:15]"
   ]
  },
  {
   "cell_type": "code",
   "execution_count": 17,
   "id": "3159b3ed",
   "metadata": {},
   "outputs": [
    {
     "data": {
      "text/plain": [
       "156"
      ]
     },
     "execution_count": 17,
     "metadata": {},
     "output_type": "execute_result"
    }
   ],
   "source": [
    "model_titles = []\n",
    "\n",
    "for tag in model_tags:\n",
    "    model_titles.append(tag.text)\n",
    "len(model_titles)"
   ]
  },
  {
   "cell_type": "code",
   "execution_count": 18,
   "id": "920b59e2",
   "metadata": {},
   "outputs": [],
   "source": [
    "date_class = \"colum colum-fecha\"\n",
    "date_tags = doc.find_all('div',{'class': date_class})"
   ]
  },
  {
   "cell_type": "code",
   "execution_count": 19,
   "id": "edfe1b71",
   "metadata": {},
   "outputs": [
    {
     "data": {
      "text/plain": [
       "[<div class=\"colum colum-fecha\">\n",
       " \n",
       " \t\t\t\t\t\t\tNovember-2022\n",
       " \t\t\t\t\t\t</div>,\n",
       " <div class=\"colum colum-fecha\">\n",
       " \t\tOctober-2022\t</div>,\n",
       " <div class=\"colum colum-fecha\">\n",
       " \n",
       " \t\t\t\t\t\t\tDecember-2021\n",
       " \t\t\t\t\t\t</div>,\n",
       " <div class=\"colum colum-fecha\">\n",
       " \n",
       " \t\t\t\t\t\t\tDecember-2020\n",
       " \t\t\t\t\t\t</div>,\n",
       " <div class=\"colum colum-fecha\">\n",
       " \n",
       " \t\t\t\t\t\t\tDecember-2021\n",
       " \t\t\t\t\t\t</div>]"
      ]
     },
     "execution_count": 19,
     "metadata": {},
     "output_type": "execute_result"
    }
   ],
   "source": [
    "date_tags[:5]"
   ]
  },
  {
   "cell_type": "code",
   "execution_count": 20,
   "id": "90f11096",
   "metadata": {},
   "outputs": [
    {
     "data": {
      "text/plain": [
       "87"
      ]
     },
     "execution_count": 20,
     "metadata": {},
     "output_type": "execute_result"
    }
   ],
   "source": [
    "date_titles = []\n",
    "\n",
    "for tag in date_tags:\n",
    "    date_titles.append(tag.text)\n",
    "len(date_titles)"
   ]
  },
  {
   "cell_type": "code",
   "execution_count": 21,
   "id": "fd42c3c1",
   "metadata": {},
   "outputs": [
    {
     "data": {
      "text/plain": [
       "'\\t\\t\\t\\t\\t\\t\\tNovember-2022\\t\\t\\t\\t\\t\\t'"
      ]
     },
     "execution_count": 21,
     "metadata": {},
     "output_type": "execute_result"
    }
   ],
   "source": [
    "char = '\\n'\n",
    "result = [ele.replace(char, '') for ele in date_titles]\n",
    "result[0]"
   ]
  },
  {
   "cell_type": "code",
   "execution_count": 22,
   "id": "a48abf8b",
   "metadata": {},
   "outputs": [
    {
     "data": {
      "text/plain": [
       "'November-2022'"
      ]
     },
     "execution_count": 22,
     "metadata": {},
     "output_type": "execute_result"
    }
   ],
   "source": [
    "char = '\\t'\n",
    "res = [ele.replace(char, '') for ele in result]\n",
    "res[0]"
   ]
  },
  {
   "cell_type": "code",
   "execution_count": 23,
   "id": "a73d206f",
   "metadata": {},
   "outputs": [],
   "source": [
    "adult_class = \"porcentaje adulto\"\n",
    "adult_tags = doc.find_all('div',{'class': adult_class})"
   ]
  },
  {
   "cell_type": "code",
   "execution_count": 24,
   "id": "11fc98d1",
   "metadata": {},
   "outputs": [
    {
     "data": {
      "text/plain": [
       "[<div class=\"porcentaje adulto\">91%</div>,\n",
       " <div class=\"porcentaje adulto\">41%</div>,\n",
       " <div class=\"porcentaje adulto\">47%</div>,\n",
       " <div class=\"porcentaje adulto\">24%</div>,\n",
       " <div class=\"porcentaje adulto\">34%</div>]"
      ]
     },
     "execution_count": 24,
     "metadata": {},
     "output_type": "execute_result"
    }
   ],
   "source": [
    "adult_tags[:5]"
   ]
  },
  {
   "cell_type": "code",
   "execution_count": 25,
   "id": "0e0c43fe",
   "metadata": {},
   "outputs": [
    {
     "data": {
      "text/plain": [
       "24"
      ]
     },
     "execution_count": 25,
     "metadata": {},
     "output_type": "execute_result"
    }
   ],
   "source": [
    "adult_titles = []\n",
    "\n",
    "for tag in adult_tags:\n",
    "    adult_titles.append(tag.text)\n",
    "len(adult_titles)"
   ]
  },
  {
   "cell_type": "code",
   "execution_count": 26,
   "id": "748cf635",
   "metadata": {},
   "outputs": [],
   "source": [
    "child_class = \"porcentaje nino\"\n",
    "child_tags = doc.find_all('div',{'class': child_class})"
   ]
  },
  {
   "cell_type": "code",
   "execution_count": 27,
   "id": "624eb713",
   "metadata": {},
   "outputs": [
    {
     "data": {
      "text/plain": [
       "[<div class=\"porcentaje nino\">92%</div>,\n",
       " <div class=\"porcentaje nino\">53%</div>,\n",
       " <div class=\"porcentaje nino\">22%</div>,\n",
       " <div class=\"porcentaje nino\">10%</div>,\n",
       " <div class=\"porcentaje nino\">9%</div>]"
      ]
     },
     "execution_count": 27,
     "metadata": {},
     "output_type": "execute_result"
    }
   ],
   "source": [
    "child_tags[:5]"
   ]
  },
  {
   "cell_type": "code",
   "execution_count": 28,
   "id": "f538527b",
   "metadata": {},
   "outputs": [
    {
     "data": {
      "text/plain": [
       "24"
      ]
     },
     "execution_count": 28,
     "metadata": {},
     "output_type": "execute_result"
    }
   ],
   "source": [
    "child_titles = []\n",
    "\n",
    "for tag in child_tags:\n",
    "    child_titles.append(tag.text)\n",
    "len(child_titles)"
   ]
  },
  {
   "cell_type": "code",
   "execution_count": 29,
   "id": "18df40ec",
   "metadata": {},
   "outputs": [],
   "source": [
    "pedestrian_class = \"porcentaje usuarios\"\n",
    "pedestrian_tags = doc.find_all('div',{'class': pedestrian_class})"
   ]
  },
  {
   "cell_type": "code",
   "execution_count": 30,
   "id": "a4ded726",
   "metadata": {},
   "outputs": [
    {
     "data": {
      "text/plain": [
       "[<div class=\"porcentaje usuarios\">54%</div>,\n",
       " <div class=\"porcentaje usuarios\">40%</div>,\n",
       " <div class=\"porcentaje usuarios\">40%</div>,\n",
       " <div class=\"porcentaje usuarios\">37%</div>,\n",
       " <div class=\"porcentaje usuarios\">50%</div>]"
      ]
     },
     "execution_count": 30,
     "metadata": {},
     "output_type": "execute_result"
    }
   ],
   "source": [
    "pedestrian_tags[:5]"
   ]
  },
  {
   "cell_type": "code",
   "execution_count": 31,
   "id": "ec928fde",
   "metadata": {},
   "outputs": [
    {
     "data": {
      "text/plain": [
       "24"
      ]
     },
     "execution_count": 31,
     "metadata": {},
     "output_type": "execute_result"
    }
   ],
   "source": [
    "pedestrian_titles = []\n",
    "\n",
    "for tag in pedestrian_tags:\n",
    "    pedestrian_titles.append(tag.text)\n",
    "len(pedestrian_titles)"
   ]
  },
  {
   "cell_type": "code",
   "execution_count": 32,
   "id": "8b44b2e5",
   "metadata": {},
   "outputs": [],
   "source": [
    "safety_class = \"porcentaje asistentes\"\n",
    "safety_tags = doc.find_all('div',{'class': safety_class})"
   ]
  },
  {
   "cell_type": "code",
   "execution_count": 33,
   "id": "af71fa90",
   "metadata": {},
   "outputs": [
    {
     "data": {
      "text/plain": [
       "[<div class=\"porcentaje asistentes\">83%</div>,\n",
       " <div class=\"porcentaje asistentes\">49%</div>,\n",
       " <div class=\"porcentaje asistentes\">42%</div>,\n",
       " <div class=\"porcentaje asistentes\">7%</div>,\n",
       " <div class=\"porcentaje asistentes\">7%</div>]"
      ]
     },
     "execution_count": 33,
     "metadata": {},
     "output_type": "execute_result"
    }
   ],
   "source": [
    "safety_tags[:5]"
   ]
  },
  {
   "cell_type": "code",
   "execution_count": 34,
   "id": "6fde2a79",
   "metadata": {},
   "outputs": [
    {
     "data": {
      "text/plain": [
       "24"
      ]
     },
     "execution_count": 34,
     "metadata": {},
     "output_type": "execute_result"
    }
   ],
   "source": [
    "safety_titles = []\n",
    "\n",
    "for tag in safety_tags:\n",
    "    safety_titles.append(tag.text)\n",
    "len(safety_titles)"
   ]
  },
  {
   "cell_type": "code",
   "execution_count": 35,
   "id": "957dcbf0",
   "metadata": {},
   "outputs": [],
   "source": [
    "import pandas as pd"
   ]
  },
  {
   "cell_type": "code",
   "execution_count": 36,
   "id": "c941704b",
   "metadata": {},
   "outputs": [],
   "source": [
    "ncap_dict = {\n",
    "    \n",
    "    'Model': model_titles[:24],\n",
    "    'Date': res[:24],\n",
    "    'Adult': adult_titles,\n",
    "    'Child': child_titles,\n",
    "    'Pedestrian':pedestrian_titles,\n",
    "    'Safety': safety_titles}"
   ]
  },
  {
   "cell_type": "code",
   "execution_count": 37,
   "id": "650692c7",
   "metadata": {},
   "outputs": [
    {
     "data": {
      "text/html": [
       "<div>\n",
       "<style scoped>\n",
       "    .dataframe tbody tr th:only-of-type {\n",
       "        vertical-align: middle;\n",
       "    }\n",
       "\n",
       "    .dataframe tbody tr th {\n",
       "        vertical-align: top;\n",
       "    }\n",
       "\n",
       "    .dataframe thead th {\n",
       "        text-align: right;\n",
       "    }\n",
       "</style>\n",
       "<table border=\"1\" class=\"dataframe\">\n",
       "  <thead>\n",
       "    <tr style=\"text-align: right;\">\n",
       "      <th></th>\n",
       "      <th>Model</th>\n",
       "      <th>Date</th>\n",
       "      <th>Adult</th>\n",
       "      <th>Child</th>\n",
       "      <th>Pedestrian</th>\n",
       "      <th>Safety</th>\n",
       "    </tr>\n",
       "  </thead>\n",
       "  <tbody>\n",
       "    <tr>\n",
       "      <th>0</th>\n",
       "      <td>Chevrolet Tracker + 6 Airbags</td>\n",
       "      <td>November-2022</td>\n",
       "      <td>91%</td>\n",
       "      <td>92%</td>\n",
       "      <td>54%</td>\n",
       "      <td>83%</td>\n",
       "    </tr>\n",
       "    <tr>\n",
       "      <th>1</th>\n",
       "      <td>Fiat Strada</td>\n",
       "      <td>October-2022</td>\n",
       "      <td>41%</td>\n",
       "      <td>53%</td>\n",
       "      <td>40%</td>\n",
       "      <td>49%</td>\n",
       "    </tr>\n",
       "    <tr>\n",
       "      <th>2</th>\n",
       "      <td>Fiat Argo / Cronos + 2 Airbags</td>\n",
       "      <td>December-2021</td>\n",
       "      <td>47%</td>\n",
       "      <td>22%</td>\n",
       "      <td>40%</td>\n",
       "      <td>42%</td>\n",
       "    </tr>\n",
       "    <tr>\n",
       "      <th>3</th>\n",
       "      <td>Ford Ka + 2 Airbags</td>\n",
       "      <td>December-2020</td>\n",
       "      <td>24%</td>\n",
       "      <td>10%</td>\n",
       "      <td>37%</td>\n",
       "      <td>7%</td>\n",
       "    </tr>\n",
       "    <tr>\n",
       "      <th>4</th>\n",
       "      <td>Great Wall Motors Wingle 5 + 2 Airbags</td>\n",
       "      <td>December-2021</td>\n",
       "      <td>34%</td>\n",
       "      <td>9%</td>\n",
       "      <td>50%</td>\n",
       "      <td>7%</td>\n",
       "    </tr>\n",
       "    <tr>\n",
       "      <th>5</th>\n",
       "      <td>Honda WR-V + 2 Airbags</td>\n",
       "      <td>September-2022</td>\n",
       "      <td>9%</td>\n",
       "      <td>0%</td>\n",
       "      <td>19%</td>\n",
       "      <td>0%</td>\n",
       "    </tr>\n",
       "    <tr>\n",
       "      <th>6</th>\n",
       "      <td>Hyundai Tucson + 6 Airbags</td>\n",
       "      <td>August-2022</td>\n",
       "      <td>41%</td>\n",
       "      <td>41%</td>\n",
       "      <td>59%</td>\n",
       "      <td>49%</td>\n",
       "    </tr>\n",
       "    <tr>\n",
       "      <th>7</th>\n",
       "      <td>Hyundai Tucson + 2 Airbags</td>\n",
       "      <td>August-2022</td>\n",
       "      <td>82%</td>\n",
       "      <td>70%</td>\n",
       "      <td>48%</td>\n",
       "      <td>56%</td>\n",
       "    </tr>\n",
       "    <tr>\n",
       "      <th>8</th>\n",
       "      <td>Hyundai Accent + 1 Airbag</td>\n",
       "      <td>December-2021</td>\n",
       "      <td>50%</td>\n",
       "      <td>5%</td>\n",
       "      <td>48%</td>\n",
       "      <td>7%</td>\n",
       "    </tr>\n",
       "    <tr>\n",
       "      <th>9</th>\n",
       "      <td>Hyundai Tucson + 2 Airbags</td>\n",
       "      <td>December-2021</td>\n",
       "      <td>9%</td>\n",
       "      <td>13%</td>\n",
       "      <td>53%</td>\n",
       "      <td>7%</td>\n",
       "    </tr>\n",
       "    <tr>\n",
       "      <th>10</th>\n",
       "      <td>Hyundai HB20 + 2 Airbags</td>\n",
       "      <td>December-2020</td>\n",
       "      <td>51%</td>\n",
       "      <td>4%</td>\n",
       "      <td>50%</td>\n",
       "      <td>7%</td>\n",
       "    </tr>\n",
       "    <tr>\n",
       "      <th>11</th>\n",
       "      <td>Kia Sportage + 2 Airbags</td>\n",
       "      <td>December-2021</td>\n",
       "      <td>19%</td>\n",
       "      <td>10%</td>\n",
       "      <td>43%</td>\n",
       "      <td>14%</td>\n",
       "    </tr>\n",
       "    <tr>\n",
       "      <th>12</th>\n",
       "      <td>Kia Picanto / Morning + 1 Airbag</td>\n",
       "      <td>October-2020</td>\n",
       "      <td>48%</td>\n",
       "      <td>15%</td>\n",
       "      <td>58%</td>\n",
       "      <td>7%</td>\n",
       "    </tr>\n",
       "    <tr>\n",
       "      <th>13</th>\n",
       "      <td>Nissan Qashqai + 6 Airbags</td>\n",
       "      <td>November-2022</td>\n",
       "      <td>0%</td>\n",
       "      <td>29%</td>\n",
       "      <td>51%</td>\n",
       "      <td>7%</td>\n",
       "    </tr>\n",
       "    <tr>\n",
       "      <th>14</th>\n",
       "      <td>Peugeot 208 + 4 Airbags</td>\n",
       "      <td>December-2021</td>\n",
       "      <td>94%</td>\n",
       "      <td>92%</td>\n",
       "      <td>54%</td>\n",
       "      <td>86%</td>\n",
       "    </tr>\n",
       "    <tr>\n",
       "      <th>15</th>\n",
       "      <td>RAM 700</td>\n",
       "      <td>October-2022</td>\n",
       "      <td>52%</td>\n",
       "      <td>55%</td>\n",
       "      <td>54%</td>\n",
       "      <td>56%</td>\n",
       "    </tr>\n",
       "    <tr>\n",
       "      <th>16</th>\n",
       "      <td>Renault Duster + 2 Airbags</td>\n",
       "      <td>August-2021</td>\n",
       "      <td>41%</td>\n",
       "      <td>53%</td>\n",
       "      <td>40%</td>\n",
       "      <td>49%</td>\n",
       "    </tr>\n",
       "    <tr>\n",
       "      <th>17</th>\n",
       "      <td>Suzuki Baleno + 2 Airbags</td>\n",
       "      <td>October-2021</td>\n",
       "      <td>47%</td>\n",
       "      <td>22%</td>\n",
       "      <td>40%</td>\n",
       "      <td>42%</td>\n",
       "    </tr>\n",
       "    <tr>\n",
       "      <th>18</th>\n",
       "      <td>Suzuki Swift + 2 Airbags</td>\n",
       "      <td>August-2021</td>\n",
       "      <td>29%</td>\n",
       "      <td>23%</td>\n",
       "      <td>51%</td>\n",
       "      <td>35%</td>\n",
       "    </tr>\n",
       "    <tr>\n",
       "      <th>19</th>\n",
       "      <td>Toyota Yaris + 2 Airbags</td>\n",
       "      <td>October-2021</td>\n",
       "      <td>20%</td>\n",
       "      <td>17%</td>\n",
       "      <td>64%</td>\n",
       "      <td>7%</td>\n",
       "    </tr>\n",
       "    <tr>\n",
       "      <th>20</th>\n",
       "      <td>Volkswagen Nivus + 6 Airbags</td>\n",
       "      <td>September-2022</td>\n",
       "      <td>16%</td>\n",
       "      <td>0%</td>\n",
       "      <td>66%</td>\n",
       "      <td>7%</td>\n",
       "    </tr>\n",
       "    <tr>\n",
       "      <th>21</th>\n",
       "      <td>Volkswagen Taos + 6 Airbags</td>\n",
       "      <td>December-2021</td>\n",
       "      <td>41%</td>\n",
       "      <td>64%</td>\n",
       "      <td>62%</td>\n",
       "      <td>42%</td>\n",
       "    </tr>\n",
       "    <tr>\n",
       "      <th>22</th>\n",
       "      <td>BYD F0 - NO Airbags</td>\n",
       "      <td>August-2016</td>\n",
       "      <td>92%</td>\n",
       "      <td>92%</td>\n",
       "      <td>49%</td>\n",
       "      <td>85%</td>\n",
       "    </tr>\n",
       "    <tr>\n",
       "      <th>23</th>\n",
       "      <td>Chery Tiggo 3 + 2 Airbags</td>\n",
       "      <td>September-2019</td>\n",
       "      <td>90%</td>\n",
       "      <td>90%</td>\n",
       "      <td>61%</td>\n",
       "      <td>85%</td>\n",
       "    </tr>\n",
       "  </tbody>\n",
       "</table>\n",
       "</div>"
      ],
      "text/plain": [
       "                                     Model                            Date  \\\n",
       "0            Chevrolet Tracker + 6 Airbags                   November-2022   \n",
       "1                              Fiat Strada                    October-2022   \n",
       "2           Fiat Argo / Cronos + 2 Airbags                   December-2021   \n",
       "3                      Ford Ka + 2 Airbags                   December-2020   \n",
       "4   Great Wall Motors Wingle 5 + 2 Airbags                   December-2021   \n",
       "5                   Honda WR-V + 2 Airbags                  September-2022   \n",
       "6               Hyundai Tucson + 6 Airbags                     August-2022   \n",
       "7               Hyundai Tucson + 2 Airbags                     August-2022   \n",
       "8                Hyundai Accent + 1 Airbag                   December-2021   \n",
       "9               Hyundai Tucson + 2 Airbags                   December-2021   \n",
       "10                Hyundai HB20 + 2 Airbags                   December-2020   \n",
       "11                Kia Sportage + 2 Airbags                   December-2021   \n",
       "12        Kia Picanto / Morning + 1 Airbag                    October-2020   \n",
       "13              Nissan Qashqai + 6 Airbags                   November-2022   \n",
       "14                 Peugeot 208 + 4 Airbags                   December-2021   \n",
       "15                                 RAM 700                    October-2022   \n",
       "16              Renault Duster + 2 Airbags                     August-2021   \n",
       "17               Suzuki Baleno + 2 Airbags                    October-2021   \n",
       "18                Suzuki Swift + 2 Airbags                     August-2021   \n",
       "19                Toyota Yaris + 2 Airbags                    October-2021   \n",
       "20            Volkswagen Nivus + 6 Airbags                  September-2022   \n",
       "21             Volkswagen Taos + 6 Airbags                   December-2021   \n",
       "22                     BYD F0 - NO Airbags             August-2016           \n",
       "23               Chery Tiggo 3 + 2 Airbags          September-2019           \n",
       "\n",
       "   Adult Child Pedestrian Safety  \n",
       "0    91%   92%        54%    83%  \n",
       "1    41%   53%        40%    49%  \n",
       "2    47%   22%        40%    42%  \n",
       "3    24%   10%        37%     7%  \n",
       "4    34%    9%        50%     7%  \n",
       "5     9%    0%        19%     0%  \n",
       "6    41%   41%        59%    49%  \n",
       "7    82%   70%        48%    56%  \n",
       "8    50%    5%        48%     7%  \n",
       "9     9%   13%        53%     7%  \n",
       "10   51%    4%        50%     7%  \n",
       "11   19%   10%        43%    14%  \n",
       "12   48%   15%        58%     7%  \n",
       "13    0%   29%        51%     7%  \n",
       "14   94%   92%        54%    86%  \n",
       "15   52%   55%        54%    56%  \n",
       "16   41%   53%        40%    49%  \n",
       "17   47%   22%        40%    42%  \n",
       "18   29%   23%        51%    35%  \n",
       "19   20%   17%        64%     7%  \n",
       "20   16%    0%        66%     7%  \n",
       "21   41%   64%        62%    42%  \n",
       "22   92%   92%        49%    85%  \n",
       "23   90%   90%        61%    85%  "
      ]
     },
     "execution_count": 37,
     "metadata": {},
     "output_type": "execute_result"
    }
   ],
   "source": [
    "ncap_df = pd.DataFrame(ncap_dict)\n",
    "ncap_df"
   ]
  },
  {
   "cell_type": "code",
   "execution_count": 38,
   "id": "782199b1",
   "metadata": {},
   "outputs": [],
   "source": [
    "driver_class = \"colum colum-240 adulto\"\n",
    "adult_occupant = doc.find_all('div',{'class': driver_class})"
   ]
  },
  {
   "cell_type": "code",
   "execution_count": 39,
   "id": "fe6179eb",
   "metadata": {},
   "outputs": [
    {
     "data": {
      "text/plain": [
       "134"
      ]
     },
     "execution_count": 39,
     "metadata": {},
     "output_type": "execute_result"
    }
   ],
   "source": [
    "len(adult_occupant)"
   ]
  },
  {
   "cell_type": "code",
   "execution_count": 40,
   "id": "d3bb709c",
   "metadata": {},
   "outputs": [
    {
     "data": {
      "text/plain": [
       "134"
      ]
     },
     "execution_count": 40,
     "metadata": {},
     "output_type": "execute_result"
    }
   ],
   "source": [
    "driversafety_titles = []\n",
    "\n",
    "for tag in adult_occupant:\n",
    "    driversafety_titles.append(tag.text)\n",
    "len(driversafety_titles)"
   ]
  },
  {
   "cell_type": "code",
   "execution_count": 41,
   "id": "32bb03d5",
   "metadata": {},
   "outputs": [
    {
     "data": {
      "text/plain": [
       "'0.00 max. 34.00 '"
      ]
     },
     "execution_count": 41,
     "metadata": {},
     "output_type": "execute_result"
    }
   ],
   "source": [
    "char = '\\n'\n",
    "result1 = [ele.replace(char, '') for ele in driversafety_titles]\n",
    "result1[0]"
   ]
  },
  {
   "cell_type": "code",
   "execution_count": 42,
   "id": "13e01225",
   "metadata": {},
   "outputs": [
    {
     "data": {
      "text/plain": [
       "'\\n\\n\\n\\n\\n\\n\\n12.65 max. 49.00 \\n'"
      ]
     },
     "execution_count": 42,
     "metadata": {},
     "output_type": "execute_result"
    }
   ],
   "source": [
    "back_class = \"colum colum-240 nino\"\n",
    "child_occupant = doc.find_all('div',{'class': back_class})\n",
    "child_occupant[0].text"
   ]
  },
  {
   "cell_type": "code",
   "execution_count": 43,
   "id": "dfd40fd3",
   "metadata": {},
   "outputs": [
    {
     "data": {
      "text/plain": [
       "134"
      ]
     },
     "execution_count": 43,
     "metadata": {},
     "output_type": "execute_result"
    }
   ],
   "source": [
    "backsafety_titles = []\n",
    "\n",
    "for tag in child_occupant:\n",
    "    backsafety_titles.append(tag.text)\n",
    "len(backsafety_titles)"
   ]
  },
  {
   "cell_type": "code",
   "execution_count": 44,
   "id": "6d7b6f9a",
   "metadata": {},
   "outputs": [
    {
     "data": {
      "text/plain": [
       "'12.65 max. 49.00 '"
      ]
     },
     "execution_count": 44,
     "metadata": {},
     "output_type": "execute_result"
    }
   ],
   "source": [
    "char = '\\n'\n",
    "result2 = [ele.replace(char, '') for ele in backsafety_titles]\n",
    "result2[0]"
   ]
  },
  {
   "cell_type": "code",
   "execution_count": 45,
   "id": "ee0db452",
   "metadata": {},
   "outputs": [],
   "source": [
    "ncap1_dict = {\n",
    "    'Model': model_titles[22:],\n",
    "    'Adult Occupant': result1,\n",
    "    'Child Occupant': result2,\n",
    "    }"
   ]
  },
  {
   "cell_type": "code",
   "execution_count": 46,
   "id": "8798e760",
   "metadata": {},
   "outputs": [
    {
     "data": {
      "text/html": [
       "<div>\n",
       "<style scoped>\n",
       "    .dataframe tbody tr th:only-of-type {\n",
       "        vertical-align: middle;\n",
       "    }\n",
       "\n",
       "    .dataframe tbody tr th {\n",
       "        vertical-align: top;\n",
       "    }\n",
       "\n",
       "    .dataframe thead th {\n",
       "        text-align: right;\n",
       "    }\n",
       "</style>\n",
       "<table border=\"1\" class=\"dataframe\">\n",
       "  <thead>\n",
       "    <tr style=\"text-align: right;\">\n",
       "      <th></th>\n",
       "      <th>Model</th>\n",
       "      <th>Adult Occupant</th>\n",
       "      <th>Child Occupant</th>\n",
       "    </tr>\n",
       "  </thead>\n",
       "  <tbody>\n",
       "    <tr>\n",
       "      <th>0</th>\n",
       "      <td>BYD F0 - NO Airbags</td>\n",
       "      <td>0.00 max. 34.00</td>\n",
       "      <td>12.65 max. 49.00</td>\n",
       "    </tr>\n",
       "    <tr>\n",
       "      <th>1</th>\n",
       "      <td>Chery Tiggo 3 + 2 Airbags</td>\n",
       "      <td>0.00 max. 34.00</td>\n",
       "      <td>10.21 max. 49.00</td>\n",
       "    </tr>\n",
       "    <tr>\n",
       "      <th>2</th>\n",
       "      <td>Chevrolet New Aveo + 2 Airbags (from May 2019)...</td>\n",
       "      <td>23.76 max. 34.00</td>\n",
       "      <td>37.02 max. 49.00</td>\n",
       "    </tr>\n",
       "    <tr>\n",
       "      <th>3</th>\n",
       "      <td>Chevrolet New Onix Hatchback + 6 Airbags</td>\n",
       "      <td>28.90 max. 34.00</td>\n",
       "      <td>44.33 max. 49.00</td>\n",
       "    </tr>\n",
       "    <tr>\n",
       "      <th>4</th>\n",
       "      <td>Chevrolet New Onix Plus + 6 Airbags</td>\n",
       "      <td>28.34 max. 34.00</td>\n",
       "      <td>42.33 max. 49.00</td>\n",
       "    </tr>\n",
       "    <tr>\n",
       "      <th>...</th>\n",
       "      <td>...</td>\n",
       "      <td>...</td>\n",
       "      <td>...</td>\n",
       "    </tr>\n",
       "    <tr>\n",
       "      <th>129</th>\n",
       "      <td>Volkswagen Jetta / Vento + 2 Airbags</td>\n",
       "      <td>15.34 max. 17.00</td>\n",
       "      <td>39.20 max. 49.00</td>\n",
       "    </tr>\n",
       "    <tr>\n",
       "      <th>130</th>\n",
       "      <td>Volkswagen ClÃ¡sico (Bora) + 2 Airbags</td>\n",
       "      <td>10.27 max. 16.00</td>\n",
       "      <td>35.82 max. 49.00</td>\n",
       "    </tr>\n",
       "    <tr>\n",
       "      <th>131</th>\n",
       "      <td>Volkswagen Polo + 2 Airbags</td>\n",
       "      <td>11.34 max. 16.00</td>\n",
       "      <td>36.95 max. 49.00</td>\n",
       "    </tr>\n",
       "    <tr>\n",
       "      <th>132</th>\n",
       "      <td>Volkswagen Gol Trend 1.6 + 2 Airbags</td>\n",
       "      <td>10.01 max. 16.00</td>\n",
       "      <td>21.16 max. 49.00</td>\n",
       "    </tr>\n",
       "    <tr>\n",
       "      <th>133</th>\n",
       "      <td>Volkswagen Gol Trend 1.6 - NO Airbags</td>\n",
       "      <td>5.75 max. 16.00</td>\n",
       "      <td>18.89 max. 49.00</td>\n",
       "    </tr>\n",
       "  </tbody>\n",
       "</table>\n",
       "<p>134 rows × 3 columns</p>\n",
       "</div>"
      ],
      "text/plain": [
       "                                                 Model     Adult Occupant  \\\n",
       "0                                  BYD F0 - NO Airbags   0.00 max. 34.00    \n",
       "1                            Chery Tiggo 3 + 2 Airbags   0.00 max. 34.00    \n",
       "2    Chevrolet New Aveo + 2 Airbags (from May 2019)...  23.76 max. 34.00    \n",
       "3             Chevrolet New Onix Hatchback + 6 Airbags  28.90 max. 34.00    \n",
       "4                  Chevrolet New Onix Plus + 6 Airbags  28.34 max. 34.00    \n",
       "..                                                 ...                ...   \n",
       "129               Volkswagen Jetta / Vento + 2 Airbags  15.34 max. 17.00    \n",
       "130             Volkswagen ClÃ¡sico (Bora) + 2 Airbags  10.27 max. 16.00    \n",
       "131                        Volkswagen Polo + 2 Airbags  11.34 max. 16.00    \n",
       "132               Volkswagen Gol Trend 1.6 + 2 Airbags  10.01 max. 16.00    \n",
       "133              Volkswagen Gol Trend 1.6 - NO Airbags   5.75 max. 16.00    \n",
       "\n",
       "        Child Occupant  \n",
       "0    12.65 max. 49.00   \n",
       "1    10.21 max. 49.00   \n",
       "2    37.02 max. 49.00   \n",
       "3    44.33 max. 49.00   \n",
       "4    42.33 max. 49.00   \n",
       "..                 ...  \n",
       "129  39.20 max. 49.00   \n",
       "130  35.82 max. 49.00   \n",
       "131  36.95 max. 49.00   \n",
       "132  21.16 max. 49.00   \n",
       "133  18.89 max. 49.00   \n",
       "\n",
       "[134 rows x 3 columns]"
      ]
     },
     "execution_count": 46,
     "metadata": {},
     "output_type": "execute_result"
    }
   ],
   "source": [
    "ncap1_df = pd.DataFrame(ncap1_dict)\n",
    "ncap1_df"
   ]
  },
  {
   "cell_type": "code",
   "execution_count": null,
   "id": "ab5d29ce",
   "metadata": {},
   "outputs": [],
   "source": []
  }
 ],
 "metadata": {
  "kernelspec": {
   "display_name": "Python 3 (ipykernel)",
   "language": "python",
   "name": "python3"
  },
  "language_info": {
   "codemirror_mode": {
    "name": "ipython",
    "version": 3
   },
   "file_extension": ".py",
   "mimetype": "text/x-python",
   "name": "python",
   "nbconvert_exporter": "python",
   "pygments_lexer": "ipython3",
   "version": "3.9.12"
  }
 },
 "nbformat": 4,
 "nbformat_minor": 5
}
